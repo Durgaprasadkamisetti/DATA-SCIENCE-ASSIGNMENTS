{
 "cells": [
  {
   "cell_type": "markdown",
   "id": "bae21574",
   "metadata": {},
   "source": [
    "# Hypothesis testinng Assignment-3\n",
    "TeleCall uses 4 centers around the globe to process customer order forms.\n",
    "They audit a certain %  of the customer order forms. Any error in order\n",
    "form renders it defective and has to be reworked before processing.  \n",
    "The manager wants to check whether the defective %  varies by centre. \n",
    "Please analyze the data at 5% significance level and help the manager\n",
    "draw appropriate inferences\n",
    "Minitab File: CustomerOrderForm.csv\n"
   ]
  },
  {
   "cell_type": "code",
   "execution_count": 1,
   "id": "7f35a6a6",
   "metadata": {},
   "outputs": [],
   "source": [
    "import numpy as np\n",
    "import pandas as pd\n",
    "import matplotlib.pyplot as plt\n",
    "from scipy import stats\n"
   ]
  },
  {
   "cell_type": "code",
   "execution_count": 2,
   "id": "24d27c56",
   "metadata": {},
   "outputs": [
    {
     "data": {
      "text/html": [
       "<div>\n",
       "<style scoped>\n",
       "    .dataframe tbody tr th:only-of-type {\n",
       "        vertical-align: middle;\n",
       "    }\n",
       "\n",
       "    .dataframe tbody tr th {\n",
       "        vertical-align: top;\n",
       "    }\n",
       "\n",
       "    .dataframe thead th {\n",
       "        text-align: right;\n",
       "    }\n",
       "</style>\n",
       "<table border=\"1\" class=\"dataframe\">\n",
       "  <thead>\n",
       "    <tr style=\"text-align: right;\">\n",
       "      <th></th>\n",
       "      <th>Phillippines</th>\n",
       "      <th>Indonesia</th>\n",
       "      <th>Malta</th>\n",
       "      <th>India</th>\n",
       "    </tr>\n",
       "  </thead>\n",
       "  <tbody>\n",
       "    <tr>\n",
       "      <th>0</th>\n",
       "      <td>Error Free</td>\n",
       "      <td>Error Free</td>\n",
       "      <td>Defective</td>\n",
       "      <td>Error Free</td>\n",
       "    </tr>\n",
       "    <tr>\n",
       "      <th>1</th>\n",
       "      <td>Error Free</td>\n",
       "      <td>Error Free</td>\n",
       "      <td>Error Free</td>\n",
       "      <td>Defective</td>\n",
       "    </tr>\n",
       "    <tr>\n",
       "      <th>2</th>\n",
       "      <td>Error Free</td>\n",
       "      <td>Defective</td>\n",
       "      <td>Defective</td>\n",
       "      <td>Error Free</td>\n",
       "    </tr>\n",
       "    <tr>\n",
       "      <th>3</th>\n",
       "      <td>Error Free</td>\n",
       "      <td>Error Free</td>\n",
       "      <td>Error Free</td>\n",
       "      <td>Error Free</td>\n",
       "    </tr>\n",
       "    <tr>\n",
       "      <th>4</th>\n",
       "      <td>Error Free</td>\n",
       "      <td>Error Free</td>\n",
       "      <td>Defective</td>\n",
       "      <td>Error Free</td>\n",
       "    </tr>\n",
       "    <tr>\n",
       "      <th>...</th>\n",
       "      <td>...</td>\n",
       "      <td>...</td>\n",
       "      <td>...</td>\n",
       "      <td>...</td>\n",
       "    </tr>\n",
       "    <tr>\n",
       "      <th>295</th>\n",
       "      <td>Error Free</td>\n",
       "      <td>Error Free</td>\n",
       "      <td>Error Free</td>\n",
       "      <td>Error Free</td>\n",
       "    </tr>\n",
       "    <tr>\n",
       "      <th>296</th>\n",
       "      <td>Error Free</td>\n",
       "      <td>Error Free</td>\n",
       "      <td>Error Free</td>\n",
       "      <td>Error Free</td>\n",
       "    </tr>\n",
       "    <tr>\n",
       "      <th>297</th>\n",
       "      <td>Error Free</td>\n",
       "      <td>Error Free</td>\n",
       "      <td>Defective</td>\n",
       "      <td>Error Free</td>\n",
       "    </tr>\n",
       "    <tr>\n",
       "      <th>298</th>\n",
       "      <td>Error Free</td>\n",
       "      <td>Error Free</td>\n",
       "      <td>Error Free</td>\n",
       "      <td>Error Free</td>\n",
       "    </tr>\n",
       "    <tr>\n",
       "      <th>299</th>\n",
       "      <td>Error Free</td>\n",
       "      <td>Defective</td>\n",
       "      <td>Defective</td>\n",
       "      <td>Error Free</td>\n",
       "    </tr>\n",
       "  </tbody>\n",
       "</table>\n",
       "<p>300 rows × 4 columns</p>\n",
       "</div>"
      ],
      "text/plain": [
       "    Phillippines   Indonesia       Malta       India\n",
       "0     Error Free  Error Free   Defective  Error Free\n",
       "1     Error Free  Error Free  Error Free   Defective\n",
       "2     Error Free   Defective   Defective  Error Free\n",
       "3     Error Free  Error Free  Error Free  Error Free\n",
       "4     Error Free  Error Free   Defective  Error Free\n",
       "..           ...         ...         ...         ...\n",
       "295   Error Free  Error Free  Error Free  Error Free\n",
       "296   Error Free  Error Free  Error Free  Error Free\n",
       "297   Error Free  Error Free   Defective  Error Free\n",
       "298   Error Free  Error Free  Error Free  Error Free\n",
       "299   Error Free   Defective   Defective  Error Free\n",
       "\n",
       "[300 rows x 4 columns]"
      ]
     },
     "execution_count": 2,
     "metadata": {},
     "output_type": "execute_result"
    }
   ],
   "source": [
    "df=pd.read_csv('Costomer+OrderForm.csv')\n",
    "df\n"
   ]
  },
  {
   "cell_type": "code",
   "execution_count": 3,
   "id": "d66eaa76",
   "metadata": {},
   "outputs": [
    {
     "data": {
      "text/plain": [
       "['Phillippines', 'Indonesia', 'Malta', 'India']"
      ]
     },
     "execution_count": 3,
     "metadata": {},
     "output_type": "execute_result"
    }
   ],
   "source": [
    "list(df)"
   ]
  },
  {
   "cell_type": "code",
   "execution_count": 4,
   "id": "395b465c",
   "metadata": {},
   "outputs": [
    {
     "name": "stdout",
     "output_type": "stream",
     "text": [
      "<class 'pandas.core.frame.DataFrame'>\n",
      "RangeIndex: 300 entries, 0 to 299\n",
      "Data columns (total 4 columns):\n",
      " #   Column        Non-Null Count  Dtype \n",
      "---  ------        --------------  ----- \n",
      " 0   Phillippines  300 non-null    object\n",
      " 1   Indonesia     300 non-null    object\n",
      " 2   Malta         300 non-null    object\n",
      " 3   India         300 non-null    object\n",
      "dtypes: object(4)\n",
      "memory usage: 9.5+ KB\n"
     ]
    }
   ],
   "source": [
    "df.info()"
   ]
  },
  {
   "cell_type": "code",
   "execution_count": 5,
   "id": "113a85c3",
   "metadata": {},
   "outputs": [
    {
     "data": {
      "text/html": [
       "<div>\n",
       "<style scoped>\n",
       "    .dataframe tbody tr th:only-of-type {\n",
       "        vertical-align: middle;\n",
       "    }\n",
       "\n",
       "    .dataframe tbody tr th {\n",
       "        vertical-align: top;\n",
       "    }\n",
       "\n",
       "    .dataframe thead th {\n",
       "        text-align: right;\n",
       "    }\n",
       "</style>\n",
       "<table border=\"1\" class=\"dataframe\">\n",
       "  <thead>\n",
       "    <tr style=\"text-align: right;\">\n",
       "      <th></th>\n",
       "      <th>Phillippines</th>\n",
       "      <th>Indonesia</th>\n",
       "      <th>Malta</th>\n",
       "      <th>India</th>\n",
       "    </tr>\n",
       "  </thead>\n",
       "  <tbody>\n",
       "    <tr>\n",
       "      <th>count</th>\n",
       "      <td>300</td>\n",
       "      <td>300</td>\n",
       "      <td>300</td>\n",
       "      <td>300</td>\n",
       "    </tr>\n",
       "    <tr>\n",
       "      <th>unique</th>\n",
       "      <td>2</td>\n",
       "      <td>2</td>\n",
       "      <td>2</td>\n",
       "      <td>2</td>\n",
       "    </tr>\n",
       "    <tr>\n",
       "      <th>top</th>\n",
       "      <td>Error Free</td>\n",
       "      <td>Error Free</td>\n",
       "      <td>Error Free</td>\n",
       "      <td>Error Free</td>\n",
       "    </tr>\n",
       "    <tr>\n",
       "      <th>freq</th>\n",
       "      <td>271</td>\n",
       "      <td>267</td>\n",
       "      <td>269</td>\n",
       "      <td>280</td>\n",
       "    </tr>\n",
       "  </tbody>\n",
       "</table>\n",
       "</div>"
      ],
      "text/plain": [
       "       Phillippines   Indonesia       Malta       India\n",
       "count           300         300         300         300\n",
       "unique            2           2           2           2\n",
       "top      Error Free  Error Free  Error Free  Error Free\n",
       "freq            271         267         269         280"
      ]
     },
     "execution_count": 5,
     "metadata": {},
     "output_type": "execute_result"
    }
   ],
   "source": [
    "df.describe()"
   ]
  },
  {
   "cell_type": "code",
   "execution_count": 6,
   "id": "3a5c6471",
   "metadata": {},
   "outputs": [
    {
     "data": {
      "text/plain": [
       "(300, 4)"
      ]
     },
     "execution_count": 6,
     "metadata": {},
     "output_type": "execute_result"
    }
   ],
   "source": [
    "df.shape"
   ]
  },
  {
   "cell_type": "code",
   "execution_count": 7,
   "id": "b97347ca",
   "metadata": {},
   "outputs": [
    {
     "data": {
      "image/png": "[encoded data removed]",
      "text/plain": [
       "<Figure size 1200x800 with 1 Axes>"
      ]
     },
     "metadata": {},
     "output_type": "display_data"
    }
   ],
   "source": [
    "#---- histogram ---- #\n",
    "column_names = df.columns\n",
    "data = [df[column] for column in column_names]\n",
    "plt.figure(figsize=(12, 8))\n",
    "plt.hist(data, bins=20, alpha=0.7, label=column_names)\n",
    "plt.xlabel('Measurement')\n",
    "plt.ylabel('Frequency')\n",
    "plt.title('Histogram for Countries')\n",
    "plt.legend()\n",
    "plt.show()\n"
   ]
  },
  {
   "cell_type": "code",
   "execution_count": 8,
   "id": "c83f7fc6",
   "metadata": {},
   "outputs": [
    {
     "data": {
      "text/plain": [
       "(Error Free    271\n",
       " Defective      29\n",
       " Name: Phillippines, dtype: int64,\n",
       " '\\n',\n",
       " Error Free    267\n",
       " Defective      33\n",
       " Name: Indonesia, dtype: int64,\n",
       " '\\n',\n",
       " Error Free    269\n",
       " Defective      31\n",
       " Name: Malta, dtype: int64,\n",
       " '\\n',\n",
       " Error Free    280\n",
       " Defective      20\n",
       " Name: India, dtype: int64)"
      ]
     },
     "execution_count": 8,
     "metadata": {},
     "output_type": "execute_result"
    }
   ],
   "source": [
    "# value counts\n",
    "new_df=(df['Phillippines'].value_counts(),'\\n',df['Indonesia'].value_counts(),'\\n',\n",
    "      df['Malta'].value_counts(),'\\n',df['India'].value_counts())\n",
    "new_df\n"
   ]
  },
  {
   "cell_type": "markdown",
   "id": "718e92d5",
   "metadata": {},
   "source": [
    "## - contingency table-\n",
    "A contingency table is a table used in statistics to summarize and analyze the\n",
    "relationship between two categorical variables. Categorical variables are variables\n",
    "that can be divided into categories but cannot be measured in terms of magnitude. \n"
   ]
  },
  {
   "cell_type": "code",
   "execution_count": 9,
   "id": "8cade926",
   "metadata": {},
   "outputs": [
    {
     "data": {
      "text/plain": [
       "[[271, 267, 269, 280], [29, 33, 31, 20]]"
      ]
     },
     "execution_count": 9,
     "metadata": {},
     "output_type": "execute_result"
    }
   ],
   "source": [
    "# creating contingency table\n",
    "contingency_table = [[271,267,269,280],\n",
    "                    [29,33,31,20]]\n",
    "contingency_table\n"
   ]
  },
  {
   "cell_type": "code",
   "execution_count": 10,
   "id": "cd6b2459",
   "metadata": {},
   "outputs": [],
   "source": [
    "\n",
    "# Excepted vales for observed data \n",
    "stat, p, df, exp = stats.chi2_contingency(contingency_table)\n",
    "\n",
    "observed = np.array([271, 267, 269, 280, 29, 33, 31, 20])\n",
    "expected = np.array([271.75, 271.75, 271.75, 271.75, 28.25, 28.25, 28.25, 28.25])\n"
   ]
  },
  {
   "cell_type": "code",
   "execution_count": 11,
   "id": "9f241324",
   "metadata": {},
   "outputs": [
    {
     "name": "stdout",
     "output_type": "stream",
     "text": [
      "Test Statistic =  3.858960685820355 \n",
      " p-value = 0.4254298144535761\n",
      "Null hypothesis H0 is rejected\n"
     ]
    }
   ],
   "source": [
    "# hypothesis and t-test\n",
    "t_test , pval = stats.chisquare(observed, expected, ddof = df)\n",
    "print(\"Test Statistic = \",t_test,'\\n', 'p-value =',pval)\n",
    "\n",
    "### value of alpha=0.5\n",
    "if p < 0.5:\n",
    "    print(\"Null hypothesis H0 is rejected\")\n",
    "if p > 0.5:\n",
    "    print(\"Null hypothesis holds true\")\n",
    "\n"
   ]
  },
  {
   "cell_type": "markdown",
   "id": "8bd1d7ab",
   "metadata": {},
   "source": [
    "### --INFERENCES--\n",
    "Null hypothesis H0 is rejected.Independence of categorical variables Thus, \n",
    "customer order forms defective % does not varies by centre.\n"
   ]
  },
  {
   "cell_type": "code",
   "execution_count": null,
   "id": "3ce4e9bf",
   "metadata": {},
   "outputs": [],
   "source": []
  }
 ],
 "metadata": {
  "kernelspec": {
   "display_name": "Python 3 (ipykernel)",
   "language": "python",
   "name": "python3"
  },
  "language_info": {
   "codemirror_mode": {
    "name": "ipython",
    "version": 3
   },
   "file_extension": ".py",
   "mimetype": "text/x-python",
   "name": "python",
   "nbconvert_exporter": "python",
   "pygments_lexer": "ipython3",
   "version": "3.11.4"
  }
 },
 "nbformat": 4,
 "nbformat_minor": 5
}
